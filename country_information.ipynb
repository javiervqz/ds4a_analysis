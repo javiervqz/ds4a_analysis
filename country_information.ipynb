{
 "cells": [
  {
   "cell_type": "code",
   "execution_count": 32,
   "id": "cf5350d7-5921-4dd6-aeda-77e9414fd48f",
   "metadata": {},
   "outputs": [],
   "source": [
    "import pandas as pd"
   ]
  },
  {
   "cell_type": "code",
   "execution_count": 33,
   "id": "4888f4ed-4e76-4382-bd44-29a93adad878",
   "metadata": {},
   "outputs": [],
   "source": [
    "iso_codes = pd.read_csv('Data/General/iso-country-codes.csv')\n",
    "countries_info = pd.read_csv('Data/General/world_countries.csv')\n",
    "\n",
    "country_mapping = {\n",
    "  'bahamas, the':'bahamas',\n",
    "  'british virgin is.':'virgin islands, british',\n",
    "  'brunei':'brunei darussalam',\n",
    "  'burma':'myanmar',\n",
    "  'central african rep.':'central african republic',\n",
    "  'congo, dem. rep.':'congo, the democratic republic of the',\n",
    "  'congo, repub. of the':'congo',\n",
    "  'east timor':'timor-leste',\n",
    "  'gambia, the':'gambia',\n",
    "  'korea, north':'korea, democratic people\\'s republic of',\n",
    "  'korea, south':'korea, republic of (south korea)',\n",
    "  'laos':'lao people\\'s democratic republic',\n",
    "  'libya':'libyan arab jamahiriya',\n",
    "  'macau':'macao',\n",
    "  'macedonia':'macedonia, the former yugoslav republic of',\n",
    "  'micronesia, fed. st.':'micronesia, federated states of',\n",
    "  'moldova':'moldova, republic of',\n",
    "  'n. mariana islands':'northern mariana islands',\n",
    "  'saint helena':'saint helena, ascension and tristan da cunha',\n",
    "  'st pierre and miquelon':'saint pierre and miquelon',\n",
    "  'syria':'syrian arab republic',\n",
    "  'tanzania':'tanzania, united republic of',\n",
    "  'turks and caicos is':'turks and caicos',\n",
    "  'united states':'united states of america',\n",
    "  'virgin islands':'virgin islands, u.s.',\n",
    "  'west bank':'palestinian territory, occupied'\n",
    "}"
   ]
  },
  {
   "cell_type": "code",
   "execution_count": 34,
   "id": "1be73641-858e-4f44-8700-a0467fd02bb1",
   "metadata": {},
   "outputs": [],
   "source": [
    "iso_codes.drop(columns=['Alpha-2 code','ISO 3166-2'], inplace=True)\n",
    "iso_codes.rename(columns={\"English short name lower case\":'Name','Alpha-3 code':'ISO3','Numeric code':'Code'},inplace=True)\n",
    "####\n",
    "countries_info.drop(columns=['Other (%)','Net migration','Pop. Density (per sq. mi.)','Phones (per 1000)','Climate','Birthrate','Deathrate','Literacy (%)','Infant mortality (per 1000 births)','GDP ($ per capita)','Agriculture','Industry','Service'],inplace=True)\n",
    "countries_info.rename(columns={\"Area (sq. mi.)\":'Area','Coastline (coast/area ratio)':'Coastline','Arable (%)':'Arable','Crops (%)':'Crops'},inplace=True)"
   ]
  },
  {
   "cell_type": "code",
   "execution_count": 35,
   "id": "438925d2-2afc-415e-b09a-e7c96bce85c7",
   "metadata": {},
   "outputs": [],
   "source": [
    "iso_codes['Name'] = iso_codes['Name'].str.strip().str.lower().str.replace('ô','o')\n",
    "countries_info['Country'] = countries_info['Country'].str.strip().str.lower().str.replace('&','and').replace(country_mapping)\n",
    "features_list = ['Coastline','Arable','Crops']\n",
    "for feature in features_list:\n",
    "    countries_info[feature] = countries_info[feature].str.replace(',','.').astype('float64')"
   ]
  },
  {
   "cell_type": "code",
   "execution_count": 36,
   "id": "21935429-d076-4f07-b909-153aa9bf30c0",
   "metadata": {},
   "outputs": [],
   "source": [
    "merged_df = iso_codes.merge(countries_info,how='inner',left_on='Name',right_on='Country')"
   ]
  },
  {
   "cell_type": "code",
   "execution_count": 37,
   "id": "83d501f5-18bd-4d00-baa4-00e8961285e3",
   "metadata": {},
   "outputs": [],
   "source": [
    "merged_df.drop(columns=['Name'],inplace=True)"
   ]
  },
  {
   "cell_type": "code",
   "execution_count": 43,
   "id": "b3de2833-3fb6-45e4-bb6f-60e6063a1fd2",
   "metadata": {},
   "outputs": [],
   "source": [
    "merged_df.to_csv('Data/Cleaned_Datasets/General/country_information.csv',index=False)"
   ]
  },
  {
   "cell_type": "code",
   "execution_count": 40,
   "id": "0b4804ba-01e1-41f7-b766-258e55ffc54b",
   "metadata": {},
   "outputs": [],
   "source": [
    "data_dict = {\n",
    "    \"ISO3\":\"3 letter country name on ISO standard\",\n",
    "    \"Code\":\"Numeric country code\",\n",
    "    \"Region\":\"Global region where country belongs\",\n",
    "    \"Population\":\"Number of habitants as of 2006\",\n",
    "    \"Area\":\"Area of the country in sq kilometers\",\n",
    "    \"Coastline\":\"coast to area ratio (coast in meters/area in km^2)*100\",\n",
    "    \"Arable\":\"Percentage of area capable to grow crops (as of 2010-ish)\",\n",
    "    \"Crops\":\"Percentage of area being used to farm (as of 2010-ish)\"\n",
    "}"
   ]
  }
 ],
 "metadata": {
  "kernelspec": {
   "display_name": "Python 3 (ipykernel)",
   "language": "python",
   "name": "python3"
  },
  "language_info": {
   "codemirror_mode": {
    "name": "ipython",
    "version": 3
   },
   "file_extension": ".py",
   "mimetype": "text/x-python",
   "name": "python",
   "nbconvert_exporter": "python",
   "pygments_lexer": "ipython3",
   "version": "3.9.15"
  }
 },
 "nbformat": 4,
 "nbformat_minor": 5
}
